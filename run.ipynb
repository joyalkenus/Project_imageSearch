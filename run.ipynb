{
  "nbformat": 4,
  "nbformat_minor": 0,
  "metadata": {
    "colab": {
      "provenance": [],
      "authorship_tag": "ABX9TyPrFcBVwJgUKcKrYuMYPF2m",
      "include_colab_link": true
    },
    "kernelspec": {
      "name": "python3",
      "display_name": "Python 3"
    },
    "language_info": {
      "name": "python"
    }
  },
  "cells": [
    {
      "cell_type": "markdown",
      "metadata": {
        "id": "view-in-github",
        "colab_type": "text"
      },
      "source": [
        "<a href=\"https://colab.research.google.com/github/joyalkenus/Project_imageSearch/blob/main/run.ipynb\" target=\"_parent\"><img src=\"https://colab.research.google.com/assets/colab-badge.svg\" alt=\"Open In Colab\"/></a>"
      ]
    },
    {
      "cell_type": "markdown",
      "source": [
        "This file is the major run file of this project\n",
        "- Aims to give a user friendly interface to interact with the system\n",
        "- aims to integrate the BERT LLM to the RAM model to achieve proper image search for the user description."
      ],
      "metadata": {
        "id": "yCEg4ensTj6r"
      }
    },
    {
      "cell_type": "code",
      "execution_count": 20,
      "metadata": {
        "id": "j8yYWAWtHEcx"
      },
      "outputs": [],
      "source": [
        "#@title Import dependencies\n",
        "import ipywidgets as widgets\n",
        "from IPython.display import clear_output, display, Image\n",
        "import os\n"
      ]
    },
    {
      "cell_type": "code",
      "source": [
        "from google.colab import drive\n",
        "drive.mount('/content/drive')"
      ],
      "metadata": {
        "id": "1Oq0d-EsUN3u",
        "outputId": "f4859ce0-8631-4604-dfeb-f6c3dcc8cf46",
        "colab": {
          "base_uri": "https://localhost:8080/"
        }
      },
      "execution_count": 21,
      "outputs": [
        {
          "output_type": "stream",
          "name": "stdout",
          "text": [
            "Mounted at /content/drive\n"
          ]
        }
      ]
    }
  ]
}